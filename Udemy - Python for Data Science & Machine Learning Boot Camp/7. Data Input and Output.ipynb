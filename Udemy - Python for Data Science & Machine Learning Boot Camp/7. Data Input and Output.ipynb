{
 "cells": [
  {
   "cell_type": "markdown",
   "metadata": {},
   "source": [
    "## Install Libraries"
   ]
  },
  {
   "cell_type": "code",
   "execution_count": 4,
   "metadata": {},
   "outputs": [
    {
     "name": "stdout",
     "output_type": "stream",
     "text": [
      "Requirement already satisfied: sqlalchemy in c:\\users\\nabhs\\anaconda3\\lib\\site-packages (1.3.9)\n",
      "Note: you may need to restart the kernel to use updated packages.\n"
     ]
    }
   ],
   "source": [
    "pip install sqlalchemy\n"
   ]
  },
  {
   "cell_type": "code",
   "execution_count": 6,
   "metadata": {},
   "outputs": [
    {
     "name": "stdout",
     "output_type": "stream",
     "text": [
      "Requirement already satisfied: lxml in c:\\users\\nabhs\\anaconda3\\lib\\site-packages (4.4.1)\n",
      "Note: you may need to restart the kernel to use updated packages.\n"
     ]
    }
   ],
   "source": [
    "pip install lxml"
   ]
  },
  {
   "cell_type": "code",
   "execution_count": 7,
   "metadata": {},
   "outputs": [
    {
     "name": "stdout",
     "output_type": "stream",
     "text": [
      "Requirement already satisfied: html5lib in c:\\users\\nabhs\\anaconda3\\lib\\site-packages (1.0.1)\n",
      "Requirement already satisfied: webencodings in c:\\users\\nabhs\\anaconda3\\lib\\site-packages (from html5lib) (0.5.1)\n",
      "Requirement already satisfied: six>=1.9 in c:\\users\\nabhs\\anaconda3\\lib\\site-packages (from html5lib) (1.12.0)\n",
      "Note: you may need to restart the kernel to use updated packages.\n"
     ]
    }
   ],
   "source": [
    "pip install html5lib"
   ]
  },
  {
   "cell_type": "code",
   "execution_count": 8,
   "metadata": {},
   "outputs": [
    {
     "name": "stdout",
     "output_type": "stream",
     "text": [
      "Requirement already satisfied: BeautifulSoup4 in c:\\users\\nabhs\\anaconda3\\lib\\site-packages (4.8.0)\n",
      "Requirement already satisfied: soupsieve>=1.2 in c:\\users\\nabhs\\anaconda3\\lib\\site-packages (from BeautifulSoup4) (1.9.3)\n",
      "Note: you may need to restart the kernel to use updated packages.\n"
     ]
    }
   ],
   "source": [
    "pip install BeautifulSoup4"
   ]
  },
  {
   "cell_type": "code",
   "execution_count": 9,
   "metadata": {},
   "outputs": [],
   "source": [
    "import pandas as pd"
   ]
  },
  {
   "cell_type": "code",
   "execution_count": 10,
   "metadata": {},
   "outputs": [
    {
     "data": {
      "text/plain": [
       "'C:\\\\Users\\\\nabhs\\\\Python 3 - My Learning'"
      ]
     },
     "execution_count": 10,
     "metadata": {},
     "output_type": "execute_result"
    }
   ],
   "source": [
    "pwd"
   ]
  },
  {
   "cell_type": "code",
   "execution_count": 16,
   "metadata": {},
   "outputs": [
    {
     "data": {
      "text/html": [
       "<div>\n",
       "<style scoped>\n",
       "    .dataframe tbody tr th:only-of-type {\n",
       "        vertical-align: middle;\n",
       "    }\n",
       "\n",
       "    .dataframe tbody tr th {\n",
       "        vertical-align: top;\n",
       "    }\n",
       "\n",
       "    .dataframe thead th {\n",
       "        text-align: right;\n",
       "    }\n",
       "</style>\n",
       "<table border=\"1\" class=\"dataframe\">\n",
       "  <thead>\n",
       "    <tr style=\"text-align: right;\">\n",
       "      <th></th>\n",
       "      <th>Fire_Size_Id</th>\n",
       "      <th>Fire_Size</th>\n",
       "      <th>Fire_Size_Class</th>\n",
       "    </tr>\n",
       "  </thead>\n",
       "  <tbody>\n",
       "    <tr>\n",
       "      <td>0</td>\n",
       "      <td>FS0</td>\n",
       "      <td>0.00001</td>\n",
       "      <td>A</td>\n",
       "    </tr>\n",
       "    <tr>\n",
       "      <td>1</td>\n",
       "      <td>FS1</td>\n",
       "      <td>0.00009</td>\n",
       "      <td>A</td>\n",
       "    </tr>\n",
       "    <tr>\n",
       "      <td>2</td>\n",
       "      <td>FS10</td>\n",
       "      <td>0.00100</td>\n",
       "      <td>A</td>\n",
       "    </tr>\n",
       "    <tr>\n",
       "      <td>3</td>\n",
       "      <td>FS100</td>\n",
       "      <td>0.12000</td>\n",
       "      <td>A</td>\n",
       "    </tr>\n",
       "    <tr>\n",
       "      <td>4</td>\n",
       "      <td>FS1000</td>\n",
       "      <td>6.65000</td>\n",
       "      <td>B</td>\n",
       "    </tr>\n",
       "  </tbody>\n",
       "</table>\n",
       "</div>"
      ],
      "text/plain": [
       "  Fire_Size_Id  Fire_Size Fire_Size_Class\n",
       "0          FS0    0.00001               A\n",
       "1          FS1    0.00009               A\n",
       "2         FS10    0.00100               A\n",
       "3        FS100    0.12000               A\n",
       "4       FS1000    6.65000               B"
      ]
     },
     "execution_count": 16,
     "metadata": {},
     "output_type": "execute_result"
    }
   ],
   "source": [
    "df=pd.read_csv('C://Users//nabhs//Desktop//Db//DATA UPLOAD//FIRE_SIZE.csv').head()\n",
    "df"
   ]
  },
  {
   "cell_type": "code",
   "execution_count": 17,
   "metadata": {},
   "outputs": [],
   "source": [
    "df.to_csv('my_output')"
   ]
  },
  {
   "cell_type": "code",
   "execution_count": 18,
   "metadata": {},
   "outputs": [
    {
     "data": {
      "text/html": [
       "<div>\n",
       "<style scoped>\n",
       "    .dataframe tbody tr th:only-of-type {\n",
       "        vertical-align: middle;\n",
       "    }\n",
       "\n",
       "    .dataframe tbody tr th {\n",
       "        vertical-align: top;\n",
       "    }\n",
       "\n",
       "    .dataframe thead th {\n",
       "        text-align: right;\n",
       "    }\n",
       "</style>\n",
       "<table border=\"1\" class=\"dataframe\">\n",
       "  <thead>\n",
       "    <tr style=\"text-align: right;\">\n",
       "      <th></th>\n",
       "      <th>Unnamed: 0</th>\n",
       "      <th>Fire_Size_Id</th>\n",
       "      <th>Fire_Size</th>\n",
       "      <th>Fire_Size_Class</th>\n",
       "    </tr>\n",
       "  </thead>\n",
       "  <tbody>\n",
       "    <tr>\n",
       "      <td>0</td>\n",
       "      <td>0</td>\n",
       "      <td>FS0</td>\n",
       "      <td>0.00001</td>\n",
       "      <td>A</td>\n",
       "    </tr>\n",
       "    <tr>\n",
       "      <td>1</td>\n",
       "      <td>1</td>\n",
       "      <td>FS1</td>\n",
       "      <td>0.00009</td>\n",
       "      <td>A</td>\n",
       "    </tr>\n",
       "    <tr>\n",
       "      <td>2</td>\n",
       "      <td>2</td>\n",
       "      <td>FS10</td>\n",
       "      <td>0.00100</td>\n",
       "      <td>A</td>\n",
       "    </tr>\n",
       "    <tr>\n",
       "      <td>3</td>\n",
       "      <td>3</td>\n",
       "      <td>FS100</td>\n",
       "      <td>0.12000</td>\n",
       "      <td>A</td>\n",
       "    </tr>\n",
       "    <tr>\n",
       "      <td>4</td>\n",
       "      <td>4</td>\n",
       "      <td>FS1000</td>\n",
       "      <td>6.65000</td>\n",
       "      <td>B</td>\n",
       "    </tr>\n",
       "  </tbody>\n",
       "</table>\n",
       "</div>"
      ],
      "text/plain": [
       "   Unnamed: 0 Fire_Size_Id  Fire_Size Fire_Size_Class\n",
       "0           0          FS0    0.00001               A\n",
       "1           1          FS1    0.00009               A\n",
       "2           2         FS10    0.00100               A\n",
       "3           3        FS100    0.12000               A\n",
       "4           4       FS1000    6.65000               B"
      ]
     },
     "execution_count": 18,
     "metadata": {},
     "output_type": "execute_result"
    }
   ],
   "source": [
    "pd.read_csv('my_output')"
   ]
  },
  {
   "cell_type": "code",
   "execution_count": 24,
   "metadata": {},
   "outputs": [],
   "source": [
    "df.to_csv('my_output',index=False)"
   ]
  },
  {
   "cell_type": "code",
   "execution_count": 25,
   "metadata": {},
   "outputs": [
    {
     "data": {
      "text/html": [
       "<div>\n",
       "<style scoped>\n",
       "    .dataframe tbody tr th:only-of-type {\n",
       "        vertical-align: middle;\n",
       "    }\n",
       "\n",
       "    .dataframe tbody tr th {\n",
       "        vertical-align: top;\n",
       "    }\n",
       "\n",
       "    .dataframe thead th {\n",
       "        text-align: right;\n",
       "    }\n",
       "</style>\n",
       "<table border=\"1\" class=\"dataframe\">\n",
       "  <thead>\n",
       "    <tr style=\"text-align: right;\">\n",
       "      <th></th>\n",
       "      <th>Fire_Size_Id</th>\n",
       "      <th>Fire_Size</th>\n",
       "      <th>Fire_Size_Class</th>\n",
       "    </tr>\n",
       "  </thead>\n",
       "  <tbody>\n",
       "    <tr>\n",
       "      <td>0</td>\n",
       "      <td>FS0</td>\n",
       "      <td>0.00001</td>\n",
       "      <td>A</td>\n",
       "    </tr>\n",
       "    <tr>\n",
       "      <td>1</td>\n",
       "      <td>FS1</td>\n",
       "      <td>0.00009</td>\n",
       "      <td>A</td>\n",
       "    </tr>\n",
       "    <tr>\n",
       "      <td>2</td>\n",
       "      <td>FS10</td>\n",
       "      <td>0.00100</td>\n",
       "      <td>A</td>\n",
       "    </tr>\n",
       "    <tr>\n",
       "      <td>3</td>\n",
       "      <td>FS100</td>\n",
       "      <td>0.12000</td>\n",
       "      <td>A</td>\n",
       "    </tr>\n",
       "    <tr>\n",
       "      <td>4</td>\n",
       "      <td>FS1000</td>\n",
       "      <td>6.65000</td>\n",
       "      <td>B</td>\n",
       "    </tr>\n",
       "  </tbody>\n",
       "</table>\n",
       "</div>"
      ],
      "text/plain": [
       "  Fire_Size_Id  Fire_Size Fire_Size_Class\n",
       "0          FS0    0.00001               A\n",
       "1          FS1    0.00009               A\n",
       "2         FS10    0.00100               A\n",
       "3        FS100    0.12000               A\n",
       "4       FS1000    6.65000               B"
      ]
     },
     "execution_count": 25,
     "metadata": {},
     "output_type": "execute_result"
    }
   ],
   "source": [
    "pd.read_csv('my_output')"
   ]
  },
  {
   "cell_type": "code",
   "execution_count": 30,
   "metadata": {},
   "outputs": [
    {
     "data": {
      "text/html": [
       "<div>\n",
       "<style scoped>\n",
       "    .dataframe tbody tr th:only-of-type {\n",
       "        vertical-align: middle;\n",
       "    }\n",
       "\n",
       "    .dataframe tbody tr th {\n",
       "        vertical-align: top;\n",
       "    }\n",
       "\n",
       "    .dataframe thead th {\n",
       "        text-align: right;\n",
       "    }\n",
       "</style>\n",
       "<table border=\"1\" class=\"dataframe\">\n",
       "  <thead>\n",
       "    <tr style=\"text-align: right;\">\n",
       "      <th></th>\n",
       "      <th>Unnamed: 0</th>\n",
       "      <th>FullFilled</th>\n",
       "      <th>Deficient</th>\n",
       "    </tr>\n",
       "  </thead>\n",
       "  <tbody>\n",
       "    <tr>\n",
       "      <td>0</td>\n",
       "      <td>Warehouse is full</td>\n",
       "      <td>62.138889</td>\n",
       "      <td>38.0</td>\n",
       "    </tr>\n",
       "    <tr>\n",
       "      <td>1</td>\n",
       "      <td>Delay in Staging</td>\n",
       "      <td>72.190476</td>\n",
       "      <td>28.0</td>\n",
       "    </tr>\n",
       "    <tr>\n",
       "      <td>2</td>\n",
       "      <td>Misplaced in Warehouse</td>\n",
       "      <td>32.033333</td>\n",
       "      <td>68.0</td>\n",
       "    </tr>\n",
       "    <tr>\n",
       "      <td>3</td>\n",
       "      <td>Not received in system (Yard)</td>\n",
       "      <td>44.322917</td>\n",
       "      <td>56.0</td>\n",
       "    </tr>\n",
       "    <tr>\n",
       "      <td>4</td>\n",
       "      <td>Others</td>\n",
       "      <td>51.385417</td>\n",
       "      <td>49.0</td>\n",
       "    </tr>\n",
       "  </tbody>\n",
       "</table>\n",
       "</div>"
      ],
      "text/plain": [
       "                       Unnamed: 0  FullFilled  Deficient\n",
       "0               Warehouse is full   62.138889       38.0\n",
       "1                Delay in Staging   72.190476       28.0\n",
       "2          Misplaced in Warehouse   32.033333       68.0\n",
       "3  Not received in system (Yard)    44.322917       56.0\n",
       "4                          Others   51.385417       49.0"
      ]
     },
     "execution_count": 30,
     "metadata": {},
     "output_type": "execute_result"
    }
   ],
   "source": [
    "df1=pd.read_excel('C://Users//nabhs//Desktop//APics Graphs.xlsx',sheet_name='Sheet6').head()\n",
    "df1"
   ]
  },
  {
   "cell_type": "code",
   "execution_count": 32,
   "metadata": {},
   "outputs": [],
   "source": [
    "df1.to_excel('my_excel.xlsx',sheet_name='new_sheet')"
   ]
  },
  {
   "cell_type": "code",
   "execution_count": 37,
   "metadata": {},
   "outputs": [
    {
     "data": {
      "text/html": [
       "<div>\n",
       "<style scoped>\n",
       "    .dataframe tbody tr th:only-of-type {\n",
       "        vertical-align: middle;\n",
       "    }\n",
       "\n",
       "    .dataframe tbody tr th {\n",
       "        vertical-align: top;\n",
       "    }\n",
       "\n",
       "    .dataframe thead th {\n",
       "        text-align: right;\n",
       "    }\n",
       "</style>\n",
       "<table border=\"1\" class=\"dataframe\">\n",
       "  <thead>\n",
       "    <tr style=\"text-align: right;\">\n",
       "      <th></th>\n",
       "      <th>Unnamed: 0</th>\n",
       "      <th>Unnamed: 0.1</th>\n",
       "      <th>FullFilled</th>\n",
       "      <th>Deficient</th>\n",
       "    </tr>\n",
       "  </thead>\n",
       "  <tbody>\n",
       "    <tr>\n",
       "      <td>0</td>\n",
       "      <td>0</td>\n",
       "      <td>Warehouse is full</td>\n",
       "      <td>62.138889</td>\n",
       "      <td>38</td>\n",
       "    </tr>\n",
       "    <tr>\n",
       "      <td>1</td>\n",
       "      <td>1</td>\n",
       "      <td>Delay in Staging</td>\n",
       "      <td>72.190476</td>\n",
       "      <td>28</td>\n",
       "    </tr>\n",
       "    <tr>\n",
       "      <td>2</td>\n",
       "      <td>2</td>\n",
       "      <td>Misplaced in Warehouse</td>\n",
       "      <td>32.033333</td>\n",
       "      <td>68</td>\n",
       "    </tr>\n",
       "    <tr>\n",
       "      <td>3</td>\n",
       "      <td>3</td>\n",
       "      <td>Not received in system (Yard)</td>\n",
       "      <td>44.322917</td>\n",
       "      <td>56</td>\n",
       "    </tr>\n",
       "    <tr>\n",
       "      <td>4</td>\n",
       "      <td>4</td>\n",
       "      <td>Others</td>\n",
       "      <td>51.385417</td>\n",
       "      <td>49</td>\n",
       "    </tr>\n",
       "  </tbody>\n",
       "</table>\n",
       "</div>"
      ],
      "text/plain": [
       "   Unnamed: 0                    Unnamed: 0.1  FullFilled  Deficient\n",
       "0           0               Warehouse is full   62.138889         38\n",
       "1           1                Delay in Staging   72.190476         28\n",
       "2           2          Misplaced in Warehouse   32.033333         68\n",
       "3           3  Not received in system (Yard)    44.322917         56\n",
       "4           4                          Others   51.385417         49"
      ]
     },
     "execution_count": 37,
     "metadata": {},
     "output_type": "execute_result"
    }
   ],
   "source": [
    "pd.read_excel('my_excel.xlsx')"
   ]
  },
  {
   "cell_type": "code",
   "execution_count": 38,
   "metadata": {},
   "outputs": [],
   "source": [
    "data = pd.read_html('https://www.worldometers.info/coronavirus/')"
   ]
  },
  {
   "cell_type": "code",
   "execution_count": 45,
   "metadata": {},
   "outputs": [
    {
     "data": {
      "text/plain": [
       "list"
      ]
     },
     "execution_count": 45,
     "metadata": {},
     "output_type": "execute_result"
    }
   ],
   "source": [
    "type(data)"
   ]
  },
  {
   "cell_type": "code",
   "execution_count": 47,
   "metadata": {},
   "outputs": [
    {
     "data": {
      "text/plain": [
       "[           Country,Other  TotalCases NewCases  TotalDeaths  NewDeaths  \\\n",
       " 0                  China       80849      +25       3199.0       10.0   \n",
       " 1                  Italy       24747   +3,590       1809.0      368.0   \n",
       " 2                   Iran       13938   +1,209        724.0      113.0   \n",
       " 3               S. Korea        8162      +76         75.0        3.0   \n",
       " 4                  Spain        7843   +1,452        292.0       96.0   \n",
       " ..                   ...         ...      ...          ...        ...   \n",
       " 154             Suriname           1      NaN          NaN        NaN   \n",
       " 155             Eswatini           1      NaN          NaN        NaN   \n",
       " 156                 Togo           1      NaN          NaN        NaN   \n",
       " 157  U.S. Virgin Islands           1      NaN          NaN        NaN   \n",
       " 158               Total:      168903    12301       6492.0      669.0   \n",
       " \n",
       "      TotalRecovered  ActiveCases  Serious,Critical  Tot Cases/1M pop  \n",
       " 0           66931.0        10719            3226.0              56.2  \n",
       " 1            2335.0        20603            1672.0             409.3  \n",
       " 2            4590.0         8624               NaN             165.9  \n",
       " 3             834.0         7253              59.0             159.2  \n",
       " 4             517.0         7034             272.0             167.7  \n",
       " ..              ...          ...               ...               ...  \n",
       " 154             NaN            1               NaN               NaN  \n",
       " 155             NaN            1               NaN               0.9  \n",
       " 156             NaN            1               NaN               0.1  \n",
       " 157             NaN            1               NaN               NaN  \n",
       " 158         76598.0        85813            5913.0              21.7  \n",
       " \n",
       " [159 rows x 9 columns]]"
      ]
     },
     "execution_count": 47,
     "metadata": {},
     "output_type": "execute_result"
    }
   ],
   "source": [
    "data"
   ]
  },
  {
   "cell_type": "code",
   "execution_count": 49,
   "metadata": {},
   "outputs": [
    {
     "data": {
      "text/html": [
       "<div>\n",
       "<style scoped>\n",
       "    .dataframe tbody tr th:only-of-type {\n",
       "        vertical-align: middle;\n",
       "    }\n",
       "\n",
       "    .dataframe tbody tr th {\n",
       "        vertical-align: top;\n",
       "    }\n",
       "\n",
       "    .dataframe thead th {\n",
       "        text-align: right;\n",
       "    }\n",
       "</style>\n",
       "<table border=\"1\" class=\"dataframe\">\n",
       "  <thead>\n",
       "    <tr style=\"text-align: right;\">\n",
       "      <th></th>\n",
       "      <th>Country,Other</th>\n",
       "      <th>TotalCases</th>\n",
       "      <th>NewCases</th>\n",
       "      <th>TotalDeaths</th>\n",
       "      <th>NewDeaths</th>\n",
       "      <th>TotalRecovered</th>\n",
       "      <th>ActiveCases</th>\n",
       "      <th>Serious,Critical</th>\n",
       "      <th>Tot Cases/1M pop</th>\n",
       "    </tr>\n",
       "  </thead>\n",
       "  <tbody>\n",
       "    <tr>\n",
       "      <td>0</td>\n",
       "      <td>China</td>\n",
       "      <td>80849</td>\n",
       "      <td>+25</td>\n",
       "      <td>3199.0</td>\n",
       "      <td>10.0</td>\n",
       "      <td>66931.0</td>\n",
       "      <td>10719</td>\n",
       "      <td>3226.0</td>\n",
       "      <td>56.2</td>\n",
       "    </tr>\n",
       "    <tr>\n",
       "      <td>1</td>\n",
       "      <td>Italy</td>\n",
       "      <td>24747</td>\n",
       "      <td>+3,590</td>\n",
       "      <td>1809.0</td>\n",
       "      <td>368.0</td>\n",
       "      <td>2335.0</td>\n",
       "      <td>20603</td>\n",
       "      <td>1672.0</td>\n",
       "      <td>409.3</td>\n",
       "    </tr>\n",
       "    <tr>\n",
       "      <td>2</td>\n",
       "      <td>Iran</td>\n",
       "      <td>13938</td>\n",
       "      <td>+1,209</td>\n",
       "      <td>724.0</td>\n",
       "      <td>113.0</td>\n",
       "      <td>4590.0</td>\n",
       "      <td>8624</td>\n",
       "      <td>NaN</td>\n",
       "      <td>165.9</td>\n",
       "    </tr>\n",
       "    <tr>\n",
       "      <td>3</td>\n",
       "      <td>S. Korea</td>\n",
       "      <td>8162</td>\n",
       "      <td>+76</td>\n",
       "      <td>75.0</td>\n",
       "      <td>3.0</td>\n",
       "      <td>834.0</td>\n",
       "      <td>7253</td>\n",
       "      <td>59.0</td>\n",
       "      <td>159.2</td>\n",
       "    </tr>\n",
       "    <tr>\n",
       "      <td>4</td>\n",
       "      <td>Spain</td>\n",
       "      <td>7843</td>\n",
       "      <td>+1,452</td>\n",
       "      <td>292.0</td>\n",
       "      <td>96.0</td>\n",
       "      <td>517.0</td>\n",
       "      <td>7034</td>\n",
       "      <td>272.0</td>\n",
       "      <td>167.7</td>\n",
       "    </tr>\n",
       "  </tbody>\n",
       "</table>\n",
       "</div>"
      ],
      "text/plain": [
       "  Country,Other  TotalCases NewCases  TotalDeaths  NewDeaths  TotalRecovered  \\\n",
       "0         China       80849      +25       3199.0       10.0         66931.0   \n",
       "1         Italy       24747   +3,590       1809.0      368.0          2335.0   \n",
       "2          Iran       13938   +1,209        724.0      113.0          4590.0   \n",
       "3      S. Korea        8162      +76         75.0        3.0           834.0   \n",
       "4         Spain        7843   +1,452        292.0       96.0           517.0   \n",
       "\n",
       "   ActiveCases  Serious,Critical  Tot Cases/1M pop  \n",
       "0        10719            3226.0              56.2  \n",
       "1        20603            1672.0             409.3  \n",
       "2         8624               NaN             165.9  \n",
       "3         7253              59.0             159.2  \n",
       "4         7034             272.0             167.7  "
      ]
     },
     "execution_count": 49,
     "metadata": {},
     "output_type": "execute_result"
    }
   ],
   "source": [
    "data[0].head()"
   ]
  },
  {
   "cell_type": "code",
   "execution_count": 51,
   "metadata": {},
   "outputs": [],
   "source": [
    "from sqlalchemy import create_engine"
   ]
  },
  {
   "cell_type": "markdown",
   "metadata": {},
   "source": [
    "## In-Memory SQL"
   ]
  },
  {
   "cell_type": "code",
   "execution_count": 52,
   "metadata": {},
   "outputs": [],
   "source": [
    "engine = create_engine('sqlite:///:memory:')"
   ]
  },
  {
   "cell_type": "code",
   "execution_count": 53,
   "metadata": {},
   "outputs": [],
   "source": [
    "data[0].to_sql('my_table',engine)"
   ]
  },
  {
   "cell_type": "code",
   "execution_count": 60,
   "metadata": {},
   "outputs": [
    {
     "data": {
      "text/html": [
       "<div>\n",
       "<style scoped>\n",
       "    .dataframe tbody tr th:only-of-type {\n",
       "        vertical-align: middle;\n",
       "    }\n",
       "\n",
       "    .dataframe tbody tr th {\n",
       "        vertical-align: top;\n",
       "    }\n",
       "\n",
       "    .dataframe thead th {\n",
       "        text-align: right;\n",
       "    }\n",
       "</style>\n",
       "<table border=\"1\" class=\"dataframe\">\n",
       "  <thead>\n",
       "    <tr style=\"text-align: right;\">\n",
       "      <th></th>\n",
       "      <th>index</th>\n",
       "      <th>Country,Other</th>\n",
       "      <th>TotalCases</th>\n",
       "      <th>NewCases</th>\n",
       "      <th>TotalDeaths</th>\n",
       "      <th>NewDeaths</th>\n",
       "      <th>TotalRecovered</th>\n",
       "      <th>ActiveCases</th>\n",
       "      <th>Serious,Critical</th>\n",
       "      <th>Tot Cases/1M pop</th>\n",
       "    </tr>\n",
       "  </thead>\n",
       "  <tbody>\n",
       "    <tr>\n",
       "      <td>0</td>\n",
       "      <td>0</td>\n",
       "      <td>China</td>\n",
       "      <td>80849</td>\n",
       "      <td>+25</td>\n",
       "      <td>3199.0</td>\n",
       "      <td>10.0</td>\n",
       "      <td>66931.0</td>\n",
       "      <td>10719</td>\n",
       "      <td>3226.0</td>\n",
       "      <td>56.2</td>\n",
       "    </tr>\n",
       "    <tr>\n",
       "      <td>1</td>\n",
       "      <td>1</td>\n",
       "      <td>Italy</td>\n",
       "      <td>24747</td>\n",
       "      <td>+3,590</td>\n",
       "      <td>1809.0</td>\n",
       "      <td>368.0</td>\n",
       "      <td>2335.0</td>\n",
       "      <td>20603</td>\n",
       "      <td>1672.0</td>\n",
       "      <td>409.3</td>\n",
       "    </tr>\n",
       "    <tr>\n",
       "      <td>2</td>\n",
       "      <td>2</td>\n",
       "      <td>Iran</td>\n",
       "      <td>13938</td>\n",
       "      <td>+1,209</td>\n",
       "      <td>724.0</td>\n",
       "      <td>113.0</td>\n",
       "      <td>4590.0</td>\n",
       "      <td>8624</td>\n",
       "      <td>NaN</td>\n",
       "      <td>165.9</td>\n",
       "    </tr>\n",
       "    <tr>\n",
       "      <td>3</td>\n",
       "      <td>3</td>\n",
       "      <td>S. Korea</td>\n",
       "      <td>8162</td>\n",
       "      <td>+76</td>\n",
       "      <td>75.0</td>\n",
       "      <td>3.0</td>\n",
       "      <td>834.0</td>\n",
       "      <td>7253</td>\n",
       "      <td>59.0</td>\n",
       "      <td>159.2</td>\n",
       "    </tr>\n",
       "    <tr>\n",
       "      <td>4</td>\n",
       "      <td>4</td>\n",
       "      <td>Spain</td>\n",
       "      <td>7843</td>\n",
       "      <td>+1,452</td>\n",
       "      <td>292.0</td>\n",
       "      <td>96.0</td>\n",
       "      <td>517.0</td>\n",
       "      <td>7034</td>\n",
       "      <td>272.0</td>\n",
       "      <td>167.7</td>\n",
       "    </tr>\n",
       "  </tbody>\n",
       "</table>\n",
       "</div>"
      ],
      "text/plain": [
       "   index Country,Other  TotalCases NewCases  TotalDeaths  NewDeaths  \\\n",
       "0      0         China       80849      +25       3199.0       10.0   \n",
       "1      1         Italy       24747   +3,590       1809.0      368.0   \n",
       "2      2          Iran       13938   +1,209        724.0      113.0   \n",
       "3      3      S. Korea        8162      +76         75.0        3.0   \n",
       "4      4         Spain        7843   +1,452        292.0       96.0   \n",
       "\n",
       "   TotalRecovered  ActiveCases  Serious,Critical  Tot Cases/1M pop  \n",
       "0         66931.0        10719            3226.0              56.2  \n",
       "1          2335.0        20603            1672.0             409.3  \n",
       "2          4590.0         8624               NaN             165.9  \n",
       "3           834.0         7253              59.0             159.2  \n",
       "4           517.0         7034             272.0             167.7  "
      ]
     },
     "execution_count": 60,
     "metadata": {},
     "output_type": "execute_result"
    }
   ],
   "source": [
    "pd.read_sql('my_table',engine).head()"
   ]
  },
  {
   "cell_type": "code",
   "execution_count": null,
   "metadata": {},
   "outputs": [],
   "source": []
  }
 ],
 "metadata": {
  "kernelspec": {
   "display_name": "Python 3",
   "language": "python",
   "name": "python3"
  },
  "language_info": {
   "codemirror_mode": {
    "name": "ipython",
    "version": 3
   },
   "file_extension": ".py",
   "mimetype": "text/x-python",
   "name": "python",
   "nbconvert_exporter": "python",
   "pygments_lexer": "ipython3",
   "version": "3.7.4"
  },
  "toc": {
   "base_numbering": 1,
   "nav_menu": {},
   "number_sections": true,
   "sideBar": true,
   "skip_h1_title": false,
   "title_cell": "Table of Contents",
   "title_sidebar": "Contents",
   "toc_cell": false,
   "toc_position": {},
   "toc_section_display": true,
   "toc_window_display": false
  }
 },
 "nbformat": 4,
 "nbformat_minor": 2
}
